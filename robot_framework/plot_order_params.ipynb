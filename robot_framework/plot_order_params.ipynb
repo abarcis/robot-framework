{
 "cells": [
  {
   "cell_type": "code",
   "execution_count": 16,
   "metadata": {},
   "outputs": [
    {
     "name": "stdout",
     "output_type": "stream",
     "text": [
      "The autoreload extension is already loaded. To reload it, use:\n",
      "  %reload_ext autoreload\n"
     ]
    }
   ],
   "source": [
    "%load_ext autoreload\n",
    "%autoreload 2"
   ]
  },
  {
   "cell_type": "code",
   "execution_count": 17,
   "metadata": {},
   "outputs": [],
   "source": [
    "import sys\n",
    "sys.path.append('..')"
   ]
  },
  {
   "cell_type": "code",
   "execution_count": 18,
   "metadata": {},
   "outputs": [],
   "source": [
    "from visualization.live_visualization import LiveVisualization\n",
    "from visualization.order_params_visualization import OrderParamsVisualization\n",
    "from state import State\n",
    "import os\n",
    "import json\n",
    "from matplotlib import pyplot as plt\n",
    "import matplotlib\n",
    "import numpy as np\n",
    "from utils.order_parameters import (\n",
    "    calculate_var_r,\n",
    "    calculate_avg_r,\n",
    "    potential_M_N,\n",
    "    angular_distance,\n",
    "    calculate_S,\n",
    "    centroid_m\n",
    ")\n",
    "import colorsys\n",
    "from matplotlib.ticker import MultipleLocator"
   ]
  },
  {
   "cell_type": "code",
   "execution_count": 19,
   "metadata": {},
   "outputs": [],
   "source": [
    "results_dir = 'results/log/'\n",
    "swarm_results_dir = 'results/log/swarm/final/'"
   ]
  },
  {
   "cell_type": "code",
   "execution_count": 20,
   "metadata": {},
   "outputs": [],
   "source": [
    "def state_from_json(s, params):\n",
    "    #print(s)\n",
    "    params.update({\n",
    "        'phase_levels_number': s['phase_levels_number'],\n",
    "        'orientation_mode': s['orientation_mode'],\n",
    "        'synchronized': False,\n",
    "        'small_phase_steps': 100,\n",
    "    })\n",
    "    state = State(\n",
    "        phase=s['phase'],\n",
    "        position=np.array(s['position']),\n",
    "        #phase_level=s['phase_level'],\n",
    "        #phase_levels_number=s['phase_levels_number'],\n",
    "        #small_phase=s['small_phase'],\n",
    "        velocity=np.array(s['velocity']),\n",
    "        #orientation_mode=s['orientation_mode'],\n",
    "        params=params,\n",
    "    )\n",
    "    state.phase_level = s['phase_level']\n",
    "    state.small_phase = s['small_phase']\n",
    "    return state\n",
    "\n",
    "def calculate_potential(states):\n",
    "    N = len(states)\n",
    "    potentials = []\n",
    "    a = 0.75\n",
    "    r = 2\n",
    "    d = 0.2\n",
    "    \n",
    "    for i, s1 in enumerate(states):\n",
    "        pot = 0\n",
    "        x1 = s1.position\n",
    "        for s2 in states[:i] + states[i+1:]:\n",
    "            x2 = s2.position\n",
    "            pot += a * np.linalg.norm(x2-x1)**2/2 - r * np.log(np.linalg.norm(x2-x1) - d)\n",
    "        potentials.append(pot/N)\n",
    "    return potentials"
   ]
  },
  {
   "cell_type": "code",
   "execution_count": 21,
   "metadata": {},
   "outputs": [],
   "source": [
    "def parse_params_from_filename(filename):\n",
    "    params = {}\n",
    "    param_string = filename[:-5].split(':')[-1]\n",
    "    param_strings = param_string.split(',')\n",
    "    for ps in param_strings:\n",
    "        param_name, value_string = ps.split('=')\n",
    "        if param_name == 'M':\n",
    "            value = int(value_string)\n",
    "        else:\n",
    "            value = float(value_string)\n",
    "        params[param_name] = value\n",
    "    return params\n"
   ]
  },
  {
   "cell_type": "code",
   "execution_count": 22,
   "metadata": {},
   "outputs": [],
   "source": [
    "ts = {}\n",
    "var_rs = {}\n",
    "time_coord_potentials = {}\n",
    "angular_distances = {}\n",
    "Ss = {}\n",
    "centroids = {}\n",
    "instants = {}\n",
    "snapshots = {}\n",
    "potentials = {}"
   ]
  },
  {
   "cell_type": "code",
   "execution_count": 23,
   "metadata": {},
   "outputs": [],
   "source": [
    "filenames = os.listdir(results_dir)\n",
    "filenames_swarm = os.listdir(swarm_results_dir)"
   ]
  },
  {
   "cell_type": "code",
   "execution_count": 24,
   "metadata": {
    "scrolled": false
   },
   "outputs": [
    {
     "name": "stdout",
     "output_type": "stream",
     "text": [
      "2020-07-01 14:01:19.668503:J=1.4,K=1,M=12.json\n",
      "2020-07-01 14:04:02.967035:J=1.5,K=1,M=6.json\n",
      "2020-07-01 13:58:59.822318:J=0.1,K=1,M=1.json\n",
      "2020-07-01 14:00:24.226203:J=-1,K=0.2,M=3.json\n",
      "2020-08-20 10:16:16.380381:J=1.4,K=1,M=12.json\n",
      "cfs-2020-07-29 08:15:18.328682:J=0.1,K=1,M=1.json\n",
      "swarm\n"
     ]
    },
    {
     "ename": "ValueError",
     "evalue": "not enough values to unpack (expected 2, got 1)",
     "output_type": "error",
     "traceback": [
      "\u001b[0;31m---------------------------------------------------------------------------\u001b[0m",
      "\u001b[0;31mValueError\u001b[0m                                Traceback (most recent call last)",
      "\u001b[0;32m<ipython-input-24-42cf6e1ed4b1>\u001b[0m in \u001b[0;36m<module>\u001b[0;34m\u001b[0m\n\u001b[1;32m      1\u001b[0m \u001b[0;32mfor\u001b[0m \u001b[0mfilename\u001b[0m \u001b[0;32min\u001b[0m \u001b[0mfilenames\u001b[0m\u001b[0;34m:\u001b[0m\u001b[0;34m\u001b[0m\u001b[0;34m\u001b[0m\u001b[0m\n\u001b[1;32m      2\u001b[0m     \u001b[0mprint\u001b[0m\u001b[0;34m(\u001b[0m\u001b[0mfilename\u001b[0m\u001b[0;34m)\u001b[0m\u001b[0;34m\u001b[0m\u001b[0;34m\u001b[0m\u001b[0m\n\u001b[0;32m----> 3\u001b[0;31m     \u001b[0mparams\u001b[0m \u001b[0;34m=\u001b[0m \u001b[0mparse_params_from_filename\u001b[0m\u001b[0;34m(\u001b[0m\u001b[0mfilename\u001b[0m\u001b[0;34m)\u001b[0m\u001b[0;34m\u001b[0m\u001b[0;34m\u001b[0m\u001b[0m\n\u001b[0m\u001b[1;32m      4\u001b[0m     \u001b[0;32mwith\u001b[0m \u001b[0mopen\u001b[0m\u001b[0;34m(\u001b[0m\u001b[0;34mf'{results_dir}{filename}'\u001b[0m\u001b[0;34m)\u001b[0m \u001b[0;32mas\u001b[0m \u001b[0mf\u001b[0m\u001b[0;34m:\u001b[0m\u001b[0;34m\u001b[0m\u001b[0;34m\u001b[0m\u001b[0m\n\u001b[1;32m      5\u001b[0m         \u001b[0mresult\u001b[0m \u001b[0;34m=\u001b[0m \u001b[0mjson\u001b[0m\u001b[0;34m.\u001b[0m\u001b[0mload\u001b[0m\u001b[0;34m(\u001b[0m\u001b[0mf\u001b[0m\u001b[0;34m)\u001b[0m\u001b[0;34m\u001b[0m\u001b[0;34m\u001b[0m\u001b[0m\n",
      "\u001b[0;32m<ipython-input-21-186075acc3d7>\u001b[0m in \u001b[0;36mparse_params_from_filename\u001b[0;34m(filename)\u001b[0m\n\u001b[1;32m      4\u001b[0m     \u001b[0mparam_strings\u001b[0m \u001b[0;34m=\u001b[0m \u001b[0mparam_string\u001b[0m\u001b[0;34m.\u001b[0m\u001b[0msplit\u001b[0m\u001b[0;34m(\u001b[0m\u001b[0;34m','\u001b[0m\u001b[0;34m)\u001b[0m\u001b[0;34m\u001b[0m\u001b[0;34m\u001b[0m\u001b[0m\n\u001b[1;32m      5\u001b[0m     \u001b[0;32mfor\u001b[0m \u001b[0mps\u001b[0m \u001b[0;32min\u001b[0m \u001b[0mparam_strings\u001b[0m\u001b[0;34m:\u001b[0m\u001b[0;34m\u001b[0m\u001b[0;34m\u001b[0m\u001b[0m\n\u001b[0;32m----> 6\u001b[0;31m         \u001b[0mparam_name\u001b[0m\u001b[0;34m,\u001b[0m \u001b[0mvalue_string\u001b[0m \u001b[0;34m=\u001b[0m \u001b[0mps\u001b[0m\u001b[0;34m.\u001b[0m\u001b[0msplit\u001b[0m\u001b[0;34m(\u001b[0m\u001b[0;34m'='\u001b[0m\u001b[0;34m)\u001b[0m\u001b[0;34m\u001b[0m\u001b[0;34m\u001b[0m\u001b[0m\n\u001b[0m\u001b[1;32m      7\u001b[0m         \u001b[0;32mif\u001b[0m \u001b[0mparam_name\u001b[0m \u001b[0;34m==\u001b[0m \u001b[0;34m'M'\u001b[0m\u001b[0;34m:\u001b[0m\u001b[0;34m\u001b[0m\u001b[0;34m\u001b[0m\u001b[0m\n\u001b[1;32m      8\u001b[0m             \u001b[0mvalue\u001b[0m \u001b[0;34m=\u001b[0m \u001b[0mint\u001b[0m\u001b[0;34m(\u001b[0m\u001b[0mvalue_string\u001b[0m\u001b[0;34m)\u001b[0m\u001b[0;34m\u001b[0m\u001b[0;34m\u001b[0m\u001b[0m\n",
      "\u001b[0;31mValueError\u001b[0m: not enough values to unpack (expected 2, got 1)"
     ]
    }
   ],
   "source": [
    "for filename in filenames:\n",
    "    print(filename)\n",
    "    params = parse_params_from_filename(filename)\n",
    "    with open(f'{results_dir}{filename}') as f:\n",
    "        result = json.load(f)\n",
    "        history = result['states']\n",
    "        ts[filename] = []\n",
    "        var_rs[filename] = []\n",
    "        time_coord_potentials[filename] = []\n",
    "        angular_distances[filename] = []\n",
    "        Ss[filename] = []\n",
    "        centroids[filename] = []\n",
    "        instants[filename] = []\n",
    "        snapshots[filename] = {}\n",
    "        for t, states in history:\n",
    "            for k, s in states.items():\n",
    "                states[k] = state_from_json(s, params)\n",
    "            \n",
    "            ts[filename].append(t)\n",
    "\n",
    "            # calculate new parameters\n",
    "            var_rs[filename].append(calculate_var_r(list(states.values())))\n",
    "            time_coord_potentials[filename].append(\n",
    "                potential_M_N(params['K'], params['M'],\n",
    "                              list(states.values()))\n",
    "            )\n",
    "            angular_distances[filename].append(angular_distance(\n",
    "                params['M'], states.values())\n",
    "            )\n",
    "            Ss[filename].append(calculate_S(states.values()))\n",
    "            phases = [\n",
    "                s.phase_level / s.phase_levels_number for s in states.values()\n",
    "            ]\n",
    "            centroids[filename].append(centroid_m(1, phases))\n",
    "            snapshots[filename][t] = states\n",
    "        times = ts[filename]\n",
    "        instants[filename] = [times[0], times[int(len(times)/3)], times[-1]]\n",
    "        "
   ]
  },
  {
   "cell_type": "code",
   "execution_count": 25,
   "metadata": {},
   "outputs": [],
   "source": [
    "datafiles = {\n",
    "    'static-sync': '2020-07-01 13:58:59.822318:J=0.1,K=1,M=1.json',\n",
    "    'static-async': '2020-07-01 14:00:24.226203:J=-1,K=0.2,M=3.json',\n",
    "    'splintered-phase-wave': '2020-07-01 14:16:18.622647:J=1.5,K=1,M=4.json',\n",
    "    'static-phase-wave': '2020-07-01 14:01:19.668503:J=1.4,K=1,M=12.json',\n",
    "    # 'static-phase-wave': '2020-08-20 10:16:16.380381:J=1.4,K=1,M=12.json',\n",
    "    'cfs-static-sync': 'cfs-2020-07-29 08:15:18.328682:J=0.1,K=1,M=1.json',\n",
    "}"
   ]
  },
  {
   "cell_type": "code",
   "execution_count": 26,
   "metadata": {},
   "outputs": [
    {
     "ename": "KeyError",
     "evalue": "'2020-07-01 14:16:18.622647:J=1.5,K=1,M=4.json'",
     "output_type": "error",
     "traceback": [
      "\u001b[0;31m---------------------------------------------------------------------------\u001b[0m",
      "\u001b[0;31mKeyError\u001b[0m                                  Traceback (most recent call last)",
      "\u001b[0;32m<ipython-input-26-f4609821d6ae>\u001b[0m in \u001b[0;36m<module>\u001b[0;34m\u001b[0m\n\u001b[1;32m      7\u001b[0m \u001b[0mtmp\u001b[0m \u001b[0;34m=\u001b[0m \u001b[0mts\u001b[0m\u001b[0;34m[\u001b[0m\u001b[0;34m'2020-07-01 14:00:24.226203:J=-1,K=0.2,M=3.json'\u001b[0m\u001b[0;34m]\u001b[0m\u001b[0;34m\u001b[0m\u001b[0;34m\u001b[0m\u001b[0m\n\u001b[1;32m      8\u001b[0m \u001b[0minstants\u001b[0m\u001b[0;34m[\u001b[0m\u001b[0;34m'2020-07-01 14:00:24.226203:J=-1,K=0.2,M=3.json'\u001b[0m\u001b[0;34m]\u001b[0m \u001b[0;34m=\u001b[0m \u001b[0;34m[\u001b[0m\u001b[0mtmp\u001b[0m\u001b[0;34m[\u001b[0m\u001b[0;36m0\u001b[0m\u001b[0;34m]\u001b[0m\u001b[0;34m,\u001b[0m \u001b[0mtmp\u001b[0m\u001b[0;34m[\u001b[0m\u001b[0mint\u001b[0m\u001b[0;34m(\u001b[0m\u001b[0mlen\u001b[0m\u001b[0;34m(\u001b[0m\u001b[0mtmp\u001b[0m\u001b[0;34m)\u001b[0m\u001b[0;34m/\u001b[0m\u001b[0;36m2\u001b[0m\u001b[0;34m)\u001b[0m\u001b[0;34m]\u001b[0m\u001b[0;34m,\u001b[0m \u001b[0mtmp\u001b[0m\u001b[0;34m[\u001b[0m\u001b[0;34m-\u001b[0m\u001b[0;36m1\u001b[0m\u001b[0;34m]\u001b[0m\u001b[0;34m]\u001b[0m\u001b[0;34m\u001b[0m\u001b[0;34m\u001b[0m\u001b[0m\n\u001b[0;32m----> 9\u001b[0;31m \u001b[0mtmp\u001b[0m \u001b[0;34m=\u001b[0m \u001b[0mts\u001b[0m\u001b[0;34m[\u001b[0m\u001b[0;34m'2020-07-01 14:16:18.622647:J=1.5,K=1,M=4.json'\u001b[0m\u001b[0;34m]\u001b[0m\u001b[0;34m\u001b[0m\u001b[0;34m\u001b[0m\u001b[0m\n\u001b[0m\u001b[1;32m     10\u001b[0m \u001b[0minstants\u001b[0m\u001b[0;34m[\u001b[0m\u001b[0;34m'2020-07-01 14:16:18.622647:J=1.5,K=1,M=4.json'\u001b[0m\u001b[0;34m]\u001b[0m \u001b[0;34m=\u001b[0m \u001b[0;34m[\u001b[0m\u001b[0mtmp\u001b[0m\u001b[0;34m[\u001b[0m\u001b[0;36m0\u001b[0m\u001b[0;34m]\u001b[0m\u001b[0;34m,\u001b[0m \u001b[0mtmp\u001b[0m\u001b[0;34m[\u001b[0m\u001b[0mint\u001b[0m\u001b[0;34m(\u001b[0m\u001b[0mlen\u001b[0m\u001b[0;34m(\u001b[0m\u001b[0mtmp\u001b[0m\u001b[0;34m)\u001b[0m\u001b[0;34m/\u001b[0m\u001b[0;36m4\u001b[0m\u001b[0;34m)\u001b[0m\u001b[0;34m+\u001b[0m\u001b[0;36m2\u001b[0m\u001b[0;34m]\u001b[0m\u001b[0;34m,\u001b[0m \u001b[0mtmp\u001b[0m\u001b[0;34m[\u001b[0m\u001b[0;34m-\u001b[0m\u001b[0;36m1\u001b[0m\u001b[0;34m]\u001b[0m\u001b[0;34m]\u001b[0m\u001b[0;34m\u001b[0m\u001b[0;34m\u001b[0m\u001b[0m\n\u001b[1;32m     11\u001b[0m \u001b[0mtmp\u001b[0m \u001b[0;34m=\u001b[0m \u001b[0mts\u001b[0m\u001b[0;34m[\u001b[0m\u001b[0;34m'cfs-2020-07-29 08:15:18.328682:J=0.1,K=1,M=1.json'\u001b[0m\u001b[0;34m]\u001b[0m\u001b[0;34m\u001b[0m\u001b[0;34m\u001b[0m\u001b[0m\n",
      "\u001b[0;31mKeyError\u001b[0m: '2020-07-01 14:16:18.622647:J=1.5,K=1,M=4.json'"
     ]
    }
   ],
   "source": [
    "#tmp = ts['2020-08-20 10:16:16.380381:J=1.4,K=1,M=12.json']\n",
    "#instants['2020-08-20 10:16:16.380381:J=1.4,K=1,M=12.json'] = [tmp[0], tmp[int(len(tmp)/2)], tmp[-1]]\n",
    "tmp = ts['2020-07-01 14:01:19.668503:J=1.4,K=1,M=12.json']\n",
    "instants['2020-07-01 14:01:19.668503:J=1.4,K=1,M=12.json'] = [tmp[0], tmp[int(len(tmp)/2)], tmp[-1]]\n",
    "tmp = ts['2020-07-01 13:58:59.822318:J=0.1,K=1,M=1.json']\n",
    "instants['2020-07-01 13:58:59.822318:J=0.1,K=1,M=1.json'] = [tmp[0], tmp[int(len(tmp)/4)-2], tmp[-2]]\n",
    "tmp = ts['2020-07-01 14:00:24.226203:J=-1,K=0.2,M=3.json']\n",
    "instants['2020-07-01 14:00:24.226203:J=-1,K=0.2,M=3.json'] = [tmp[0], tmp[int(len(tmp)/2)], tmp[-1]]\n",
    "tmp = ts['2020-07-01 14:16:18.622647:J=1.5,K=1,M=4.json']\n",
    "instants['2020-07-01 14:16:18.622647:J=1.5,K=1,M=4.json'] = [tmp[0], tmp[int(len(tmp)/4)+2], tmp[-1]]\n",
    "tmp = ts['cfs-2020-07-29 08:15:18.328682:J=0.1,K=1,M=1.json']\n",
    "instants['cfs-2020-07-29 08:15:18.328682:J=0.1,K=1,M=1.json'] = [tmp[0], tmp[int(len(tmp)/2)], tmp[-1]]\n"
   ]
  },
  {
   "cell_type": "code",
   "execution_count": 27,
   "metadata": {},
   "outputs": [
    {
     "name": "stdout",
     "output_type": "stream",
     "text": [
      "[ 0.32567974 -0.78268753  0.        ]\n",
      "[2.11258214 2.11528022 2.11450319 2.11508928 2.11428797 2.11548577\n",
      " 2.11473583 2.11230103 2.11538063 2.11170469 2.11423454 2.11380224]\n",
      "[4.33685709 4.33703586 4.33724478 4.33684318 4.33723074 4.33723589\n",
      " 4.33685468 4.33724251 4.33702987 4.33705329 4.33705336 4.33684764]\n",
      "0.00011207442336600203 0.9999999874371375\n",
      "[23.0, 3.0, 7.0, 1.0, 5.0, 17.0, 11.0, 19.0, 15.0, 9.0, 21.0, 13.0]\n"
     ]
    }
   ],
   "source": [
    "tmp = ts['2020-08-20 10:16:16.380381:J=1.4,K=1,M=12.json']\n",
    "states = snapshots['2020-08-20 10:16:16.380381:J=1.4,K=1,M=12.json'][tmp[-1]].values()\n",
    "phases2pi = np.array([s.phase_level / s.phase_levels_number * 2 * np.pi for s in states])\n",
    "positions = np.array([s.position for s in states])\n",
    "center = np.average(positions, axis=0)\n",
    "print(center)\n",
    "positions_respect_center = positions - center\n",
    "print(np.linalg.norm(positions_respect_center, axis=1))\n",
    "angular_positions = np.array(\n",
    "    [np.arctan2(p[1], p[0]) for p in positions_respect_center]\n",
    ")\n",
    "N = len(states)\n",
    "print((phases2pi - angular_positions)% (2* np.pi))\n",
    "Splus = np.absolute(\n",
    "    1/N * sum(np.exp(1j * (phases2pi + angular_positions)))\n",
    ")\n",
    "Sminus = np.absolute(\n",
    "    1/N * sum(np.exp(1j * (phases2pi - angular_positions)))\n",
    ")\n",
    "print(Splus, Sminus)\n",
    "\n",
    "print([s.phase_level for s in snapshots['2020-08-20 10:16:16.380381:J=1.4,K=1,M=12.json'][tmp[-1]].values()])"
   ]
  },
  {
   "cell_type": "code",
   "execution_count": 28,
   "metadata": {},
   "outputs": [],
   "source": [
    "plt.rcParams['axes.grid'] = True\n",
    "plt.rcParams['grid.alpha'] = 0.5\n",
    "plt.rcParams['legend.fancybox'] = True\n",
    "#print(plt.rcParams.find_all('axes'))\n",
    "\n",
    "plt.rcParams['xtick.bottom'] = False\n",
    "plt.rcParams['ytick.left'] = False\n",
    "\n",
    "plt.rcParams['figure.frameon'] = True\n",
    "plt.rcParams['axes.edgecolor'] = '#b3b3b3'\n",
    "#plt.rcParams['figure.framealpha'] = 0.5\n",
    "#plt.tick_params(left=False, bottom=False)\n",
    "#matplotlib.style.use('default')\n",
    "#matplotlib.style.use('seaborn-talk')\n",
    "#matplotlib.style.use('seaborn-whitegrid')\n"
   ]
  },
  {
   "cell_type": "code",
   "execution_count": 29,
   "metadata": {
    "scrolled": false
   },
   "outputs": [
    {
     "ename": "KeyError",
     "evalue": "'2020-07-01 14:16:18.622647:J=1.5,K=1,M=4.json'",
     "output_type": "error",
     "traceback": [
      "\u001b[0;31m---------------------------------------------------------------------------\u001b[0m",
      "\u001b[0;31mKeyError\u001b[0m                                  Traceback (most recent call last)",
      "\u001b[0;32m<ipython-input-29-850552e629f0>\u001b[0m in \u001b[0;36m<module>\u001b[0;34m\u001b[0m\n\u001b[1;32m      8\u001b[0m \u001b[0;34m\u001b[0m\u001b[0m\n\u001b[1;32m      9\u001b[0m     \u001b[0max\u001b[0m\u001b[0;34m.\u001b[0m\u001b[0mset_axisbelow\u001b[0m\u001b[0;34m(\u001b[0m\u001b[0;32mTrue\u001b[0m\u001b[0;34m)\u001b[0m\u001b[0;34m\u001b[0m\u001b[0;34m\u001b[0m\u001b[0m\n\u001b[0;32m---> 10\u001b[0;31m     \u001b[0max\u001b[0m\u001b[0;34m.\u001b[0m\u001b[0mscatter\u001b[0m\u001b[0;34m(\u001b[0m\u001b[0mts\u001b[0m\u001b[0;34m[\u001b[0m\u001b[0mfilename\u001b[0m\u001b[0;34m]\u001b[0m\u001b[0;34m,\u001b[0m \u001b[0mcentroids\u001b[0m\u001b[0;34m[\u001b[0m\u001b[0mfilename\u001b[0m\u001b[0;34m]\u001b[0m\u001b[0;34m,\u001b[0m \u001b[0ms\u001b[0m\u001b[0;34m=\u001b[0m\u001b[0;36m5\u001b[0m\u001b[0;34m,\u001b[0m \u001b[0mlabel\u001b[0m\u001b[0;34m=\u001b[0m\u001b[0;34m\"$r$\"\u001b[0m\u001b[0;34m)\u001b[0m\u001b[0;34m\u001b[0m\u001b[0;34m\u001b[0m\u001b[0m\n\u001b[0m\u001b[1;32m     11\u001b[0m     \u001b[0max\u001b[0m\u001b[0;34m.\u001b[0m\u001b[0mscatter\u001b[0m\u001b[0;34m(\u001b[0m\u001b[0mts\u001b[0m\u001b[0;34m[\u001b[0m\u001b[0mfilename\u001b[0m\u001b[0;34m]\u001b[0m\u001b[0;34m,\u001b[0m \u001b[0mvar_rs\u001b[0m\u001b[0;34m[\u001b[0m\u001b[0mfilename\u001b[0m\u001b[0;34m]\u001b[0m\u001b[0;34m,\u001b[0m \u001b[0ms\u001b[0m\u001b[0;34m=\u001b[0m\u001b[0;36m5\u001b[0m\u001b[0;34m,\u001b[0m \u001b[0mlabel\u001b[0m\u001b[0;34m=\u001b[0m\u001b[0;34m\"$V$\"\u001b[0m\u001b[0;34m)\u001b[0m\u001b[0;34m\u001b[0m\u001b[0;34m\u001b[0m\u001b[0m\n\u001b[1;32m     12\u001b[0m     \u001b[0max\u001b[0m\u001b[0;34m.\u001b[0m\u001b[0mscatter\u001b[0m\u001b[0;34m(\u001b[0m\u001b[0mts\u001b[0m\u001b[0;34m[\u001b[0m\u001b[0mfilename\u001b[0m\u001b[0;34m]\u001b[0m\u001b[0;34m,\u001b[0m \u001b[0mSs\u001b[0m\u001b[0;34m[\u001b[0m\u001b[0mfilename\u001b[0m\u001b[0;34m]\u001b[0m\u001b[0;34m,\u001b[0m \u001b[0ms\u001b[0m\u001b[0;34m=\u001b[0m\u001b[0;36m5\u001b[0m\u001b[0;34m,\u001b[0m \u001b[0mlabel\u001b[0m\u001b[0;34m=\u001b[0m\u001b[0;34m\"$S$\"\u001b[0m\u001b[0;34m)\u001b[0m\u001b[0;34m\u001b[0m\u001b[0;34m\u001b[0m\u001b[0m\n",
      "\u001b[0;31mKeyError\u001b[0m: '2020-07-01 14:16:18.622647:J=1.5,K=1,M=4.json'"
     ]
    },
    {
     "data": {
      "image/png": "[encoded data removed]",
      "text/plain": [
       "<Figure size 396x180 with 1 Axes>"
      ]
     },
     "metadata": {
      "needs_background": "light"
     },
     "output_type": "display_data"
    },
    {
     "data": {
      "image/png": "[encoded data removed]",
      "text/plain": [
       "<Figure size 396x144 with 3 Axes>"
      ]
     },
     "metadata": {
      "needs_background": "light"
     },
     "output_type": "display_data"
    },
    {
     "data": {
      "image/png": "[encoded data removed]",
      "text/plain": [
       "<Figure size 144x144 with 1 Axes>"
      ]
     },
     "metadata": {
      "needs_background": "light"
     },
     "output_type": "display_data"
    },
    {
     "data": {
      "image/png": "[encoded data removed]",
      "text/plain": [
       "<Figure size 396x180 with 1 Axes>"
      ]
     },
     "metadata": {
      "needs_background": "light"
     },
     "output_type": "display_data"
    },
    {
     "data": {
      "image/png": "[encoded data removed]",
      "text/plain": [
       "<Figure size 396x144 with 3 Axes>"
      ]
     },
     "metadata": {
      "needs_background": "light"
     },
     "output_type": "display_data"
    },
    {
     "data": {
      "image/png": "[encoded data removed]",
      "text/plain": [
       "<Figure size 144x144 with 1 Axes>"
      ]
     },
     "metadata": {
      "needs_background": "light"
     },
     "output_type": "display_data"
    },
    {
     "data": {
      "image/png": "[encoded data removed]",
      "text/plain": [
       "<Figure size 396x180 with 1 Axes>"
      ]
     },
     "metadata": {
      "needs_background": "light"
     },
     "output_type": "display_data"
    },
    {
     "data": {
      "image/png": "[encoded data removed]",
      "text/plain": [
       "<Figure size 396x144 with 3 Axes>"
      ]
     },
     "metadata": {
      "needs_background": "light"
     },
     "output_type": "display_data"
    },
    {
     "data": {
      "image/png": "[encoded data removed]",
      "text/plain": [
       "<Figure size 144x144 with 1 Axes>"
      ]
     },
     "metadata": {
      "needs_background": "light"
     },
     "output_type": "display_data"
    }
   ],
   "source": [
    "for pattern, filename in datafiles.items():\n",
    "    fig, ax = plt.subplots(\n",
    "        1, 1, sharex=True, constrained_layout=True, figsize=(5.5, 2.5)\n",
    "    )\n",
    "    #fig.suptitle(filename)\n",
    "    fig2, s = plt.subplots(1, 3, constrained_layout=True, figsize=(5.5, 2), sharex=True, sharey=True)\n",
    "    fig3, ax3 = plt.subplots(1, 1, constrained_layout=True, figsize=(2, 2))\n",
    "\n",
    "    ax.set_axisbelow(True)\n",
    "    ax.scatter(ts[filename], centroids[filename], s=5, label=\"$r$\")\n",
    "    ax.scatter(ts[filename], var_rs[filename], s=5, label=\"$V$\")\n",
    "    ax.scatter(ts[filename], Ss[filename], s=5, label=\"$S$\")\n",
    "    #ax.scatter(ts[filename], angular_distances[filename], s=5, label=\"Angular distance diff\")\n",
    "    #ax.scatter(ts[filename], time_coord_potentials[filename], s=5, label=\"Time coordination potential\")\n",
    "    #ax.spines['left'].set_visible(False)\n",
    "    ax.set_ylim(ymin=-0.01)\n",
    "    offsets = [ts[filename][-1]*0.01, ts[filename][-1]*0.03, ts[filename][-1]*0.12]\n",
    "    ax.set_xlabel('time [s]')\n",
    "    ax.set_ylabel('order parameters')\n",
    "    correct_phase = 1 if pattern != 'static-phase-wave' else 0\n",
    "    for i, t in enumerate(instants[filename]):\n",
    "        ax.axvline(t, color='black', ls='--')\n",
    "        ax.text(t-offsets[i], 1.01, f'$t={t:.0f}\\\\:$s', transform=ax.get_xaxis_transform())\n",
    "        s[i].xaxis.set_major_locator(MultipleLocator(2))\n",
    "        s[i].yaxis.set_major_locator(MultipleLocator(2))\n",
    "        s[i].set_aspect('equal')\n",
    "        xs = [s.position[0] for s in snapshots[filename][t].values()]\n",
    "        ys = [s.position[1] for s in snapshots[filename][t].values()]\n",
    "        cs = [colorsys.hsv_to_rgb((s.phase - correct_phase/s.phase_levels_number)%1, 1, 1) for s in snapshots[filename][t].values()]\n",
    "        s[i].set_axisbelow(True)\n",
    "        s[i].set_xlim((-5.1, 5.1))\n",
    "        s[i].set_ylim((-5.1, 5.1))\n",
    "        s[i].scatter(xs, ys, c=cs, s=30)\n",
    "        s[i].set_title(f'$t={t:.0f}\\\\:$s')\n",
    "        s[i].set_xlabel('[m]')\n",
    "        \n",
    "    s[0].set_ylabel('[m]')\n",
    "\n",
    "\n",
    "    ax.legend(loc='center right')\n",
    "    ax.set_xlim((-ts[filename][-1]*0.01, ts[filename][-1]*1.01))\n",
    "    if not pattern.startswith('cfs'):\n",
    "        fig.savefig(f'/home/agniewek/repos/papers/2020-journal/data/sim-op-{pattern}.pdf', transparent=True, bbox_inches=\"tight\")\n",
    "        fig2.savefig(f'/home/agniewek/repos/papers/2020-journal/data/sim-snapshots-{pattern}.pdf', transparent=True, bbox_inches=\"tight\")\n",
    "    else:\n",
    "        fig.savefig(f'/home/agniewek/repos/papers/2020-journal/data/exp-op-{pattern}.pdf', transparent=True, bbox_inches=\"tight\")\n",
    "        fig2.savefig(f'/home/agniewek/repos/papers/2020-journal/data/exp-snapshots-{pattern}.pdf', transparent=True, bbox_inches=\"tight\")\n",
    "    \n",
    "    if not pattern.startswith('cfs'):    \n",
    "        t = instants[filename][-1]\n",
    "        xs = np.array([s.position[0] for s in snapshots[filename][t].values()])\n",
    "        xs = xs - np.average(xs)\n",
    "        ys = np.array([s.position[1] for s in snapshots[filename][t].values()])\n",
    "        ys = ys - np.average(ys)\n",
    "        cs = [colorsys.hsv_to_rgb((s.phase - correct_phase/s.phase_levels_number)%1, 1, 1) for s in snapshots[filename][t].values()]\n",
    "        ax3.scatter(xs, ys, c=cs, s=50)\n",
    "        ax3.set_xlabel('[m]')\n",
    "        ax3.set_ylabel('[m]')\n",
    "        fig3.savefig(f'/home/agniewek/repos/papers/2020-journal/data/pattern-{pattern}.pdf', transparent=True, bbox_inches='tight')\n",
    "    \n",
    "    #fig, (ax_var_rs, ax_S, ax_ang_dist, ax_time_coord, ax_centroid) = plt.subplots(\n",
    "    #    5, 1, sharex=True, constrained_layout=True, figsize=(5, 10)\n",
    "    #)\n",
    "    #fig.suptitle(filename)\n",
    "\n",
    "    #ax_var_rs.scatter(ts[filename], var_rs[filename])\n",
    "    #ax_S.scatter(ts[filename], Ss[filename])\n",
    "    #ax_ang_dist.scatter(ts[filename], angular_distances[filename])\n",
    "    #ax_time_coord.scatter(ts[filename], time_coord_potentials[filename])\n",
    "    #ax_centroid.scatter(ts[filename], centroids[filename])\n",
    "    \n",
    "    #ax_var_rs.set_ylim(ymin=0)\n",
    "    #ax_S.set_ylim(ymin=0)\n",
    "    #ax_ang_dist.set_ylim(ymin=0)\n",
    "    #ax_time_coord.set_ylim(ymin=0)\n",
    "    #ax_centroid.set_ylim(ymin=0)\n",
    "    \n",
    "    #ax_var_rs.set_title(\"Distance from middle diff\")\n",
    "    #ax_S.set_title(\"S\")\n",
    "    #ax_ang_dist.set_title(\"Angular distance diff\")\n",
    "    #ax_time_coord.set_title(\"Time coordination potential\")\n",
    "    #ax_centroid.set_title(\"Synchronization centroid\")\n"
   ]
  },
  {
   "cell_type": "code",
   "execution_count": null,
   "metadata": {},
   "outputs": [],
   "source": [
    "def parse_vd_data(filenames):\n",
    "    data = {\n",
    "        'Ns': [],\n",
    "        'Vds': [],\n",
    "    }\n",
    "    for f in filenames:\n",
    "        f = f[:-4]\n",
    "        d = f.split(':')\n",
    "        model = d[0]\n",
    "        N = int(d[1].split('=')[1])\n",
    "        Vd = float(d[2].split('=')[1])\n",
    "        if N == 4:\n",
    "            continue\n",
    "        data['Ns'].append(N)\n",
    "        data['Vds'].append(Vd)\n",
    "    return data\n"
   ]
  },
  {
   "cell_type": "code",
   "execution_count": null,
   "metadata": {},
   "outputs": [],
   "source": [
    "res_dir = 'results/vd/'\n",
    "final = sorted(os.listdir(res_dir))[-1]\n",
    "vd_filenames = os.listdir(\n",
    "    f'{res_dir}{final}'\n",
    ")\n",
    "vd_data = parse_vd_data(\n",
    "    vd_filenames\n",
    ")"
   ]
  },
  {
   "cell_type": "code",
   "execution_count": null,
   "metadata": {},
   "outputs": [],
   "source": [
    "plt.scatter(vd_data['Ns'], vd_data['Vds'])"
   ]
  },
  {
   "cell_type": "code",
   "execution_count": null,
   "metadata": {},
   "outputs": [],
   "source": [
    "vd_filenames\n",
    "vd_data"
   ]
  },
  {
   "cell_type": "code",
   "execution_count": 30,
   "metadata": {},
   "outputs": [
    {
     "data": {
      "image/png": "[encoded data removed]",
      "text/plain": [
       "<Figure size 14.4x144 with 1 Axes>"
      ]
     },
     "metadata": {
      "needs_background": "light"
     },
     "output_type": "display_data"
    }
   ],
   "source": [
    "#import matplotlib.pyplot as plt\n",
    "from matplotlib import cm\n",
    "import matplotlib as mpl\n",
    "#import numpy as np\n",
    "\n",
    "fig = plt.figure(figsize=(0.2, 2))\n",
    "\n",
    "display_axes = fig.add_axes([0, 0, 1, 1]) #, projection='polar')\n",
    "\n",
    "quant_steps = 256\n",
    "norm = mpl.colors.Normalize(0, 2 * np.pi)\n",
    "hsv = cm.get_cmap('hsv', quant_steps)\n",
    "cmap = mpl.colors.ListedColormap(hsv(np.tile(np.linspace(0,1,quant_steps),1)))\n",
    "\n",
    "cb = mpl.colorbar.ColorbarBase(display_axes,\n",
    "                               cmap=cmap,\n",
    "                               #norm=norm,\n",
    "                               ticklocation='left',\n",
    "                               ticks=[0, 1],\n",
    "                               orientation='vertical'\n",
    "                              )\n",
    "cb.set_ticklabels([\"0\", \"$2\\pi$\"], update_ticks=True)\n",
    "cb.minorticks_off()\n",
    "display_axes.tick_params(length=0) #top='off', bottom='off', left='off', right='off', labelleft='on', labelbottom='on')\n",
    "#cb.outline.set_visible(False)                                 \n",
    "#display_axes.set_axis_off()\n",
    "fig.savefig(f'/home/agniewek/repos/papers/2020-journal/data/colorbar.pdf', transparent=True, bbox_inches='tight')\n",
    "plt.show()"
   ]
  },
  {
   "cell_type": "code",
   "execution_count": 31,
   "metadata": {},
   "outputs": [
    {
     "data": {
      "image/png": "[encoded data removed]",
      "text/plain": [
       "<Figure size 144x14.4 with 1 Axes>"
      ]
     },
     "metadata": {
      "needs_background": "light"
     },
     "output_type": "display_data"
    }
   ],
   "source": [
    "from matplotlib import cm\n",
    "import matplotlib as mpl\n",
    "#import numpy as np\n",
    "\n",
    "fig = plt.figure(figsize=(2, 0.2))\n",
    "\n",
    "display_axes = fig.add_axes([0, 0, 1, 1]) #, projection='polar')\n",
    "\n",
    "quant_steps = 256\n",
    "norm = mpl.colors.Normalize(0, 2 * np.pi)\n",
    "hsv = cm.get_cmap('hsv', quant_steps)\n",
    "cmap = mpl.colors.ListedColormap(hsv(np.tile(np.linspace(0,1,quant_steps),1)))\n",
    "\n",
    "cb = mpl.colorbar.ColorbarBase(display_axes,\n",
    "                               cmap=cmap,\n",
    "                               #norm=norm,\n",
    "                               ticklocation='bottom',\n",
    "                               ticks=[0, 1],\n",
    "                               orientation='horizontal'\n",
    "                              )\n",
    "cb.set_ticklabels([\"0\", \"$2\\pi$\"], update_ticks=True)\n",
    "cb.minorticks_off()\n",
    "display_axes.tick_params(length=0) #top='off', bottom='off', left='off', right='off', labelleft='on', labelbottom='on')\n",
    "#cb.outline.set_visible(False)                                 \n",
    "#display_axes.set_axis_off()\n",
    "fig.savefig(f'/home/agniewek/repos/thesis/preliminaries/data/colorbar.pdf', transparent=True, bbox_inches='tight')\n",
    "plt.show()"
   ]
  },
  {
   "cell_type": "code",
   "execution_count": 32,
   "metadata": {},
   "outputs": [],
   "source": [
    "n_attr = 0.75  # 0.75\n",
    "n_rep = 2  # 2\n",
    "d = 0.2  # 0.2\n",
    "eps = 0.1\n",
    "#xs = np.linspace(d+eps, 12, 100000)\n",
    "xs = np.linspace(d+eps, 4.5, 100000)\n",
    "#potential = [n_attr * x**4/2 - n_rep*(x-d) for x in xs]\n",
    "potential = [n_attr * x**2/2 - n_rep*np.log(x-d) for x in xs]\n",
    "lipschitz = [n_attr + n_rep/(x-d)**2 for x in xs]"
   ]
  },
  {
   "cell_type": "code",
   "execution_count": 35,
   "metadata": {},
   "outputs": [
    {
     "data": {
      "image/png": "[encoded data removed]",
      "text/plain": [
       "<Figure size 396x180 with 1 Axes>"
      ]
     },
     "metadata": {
      "needs_background": "light"
     },
     "output_type": "display_data"
    }
   ],
   "source": [
    "fig, ax = plt.subplots(\n",
    "    1, 1, constrained_layout=True, figsize=(5.5, 2.5)\n",
    ")\n",
    "    \n",
    "ax.set_axisbelow(True)\n",
    "ax.plot(xs, potential)\n",
    "#ax.set_ylim(ymin=-0.01)\n",
    "#ax.set_ylim(ymax=4.5)\n",
    "#ax.set_xlim(xmin=-0.01)\n",
    "ax.set_xlabel('$||\\mathbf{x}_{jk}||$ [m]')\n",
    "ax.set_ylabel('$\\mathcal{V}_j(\\mathbf{x}_{k})$')\n",
    "ax.axvline(0.2, color='black', ls='--', lw=1)\n",
    "ticks = [0.2]\n",
    "ax.set_xticks(ticks, minor=True)\n",
    "\n",
    "dic = {\n",
    "    0.2: '$d$',\n",
    "}\n",
    "labels = [ticks[i] if t not in dic.keys() else dic[t] for i,t in enumerate(ticks)]\n",
    "## or \n",
    "# labels = [dic.get(t, ticks[i]) for i,t in enumerate(ticks)]\n",
    "\n",
    "ax.set_xticklabels(labels, minor=True)\n",
    "#ax.tick_params(which='minor', labelbottom=True, labelrotation=-90)\n",
    "#ax.axvline(0.3, color='black', ls='--')\n",
    "#fig.savefig(f'/home/agniewek/repos/thesis/spatial_coordination/data/potential.pdf', transparent=True, bbox_inches='tight')\n",
    "fig.savefig(f'/home/agniewek/repos/papers/2021-ABarcis-MRS-Swarming/data/potential.pdf', transparent=True, bbox_inches='tight')\n"
   ]
  },
  {
   "cell_type": "code",
   "execution_count": 37,
   "metadata": {},
   "outputs": [
    {
     "data": {
      "image/png": "[encoded data removed]",
      "text/plain": [
       "<Figure size 396x180 with 1 Axes>"
      ]
     },
     "metadata": {
      "needs_background": "light"
     },
     "output_type": "display_data"
    }
   ],
   "source": [
    "fig, ax = plt.subplots(\n",
    "    1, 1, constrained_layout=False, figsize=(5.5, 2.5)\n",
    ")\n",
    "    \n",
    "ax.set_axisbelow(True)\n",
    "ax.plot(xs, lipschitz)\n",
    "ax.set_ylim(ymin=-0.01)\n",
    "ax.set_ylim(ymax=200)\n",
    "ax.set_xlim(xmin=-0.01)\n",
    "ax.set_xlim(xmax=4.5)\n",
    "ax.set_xlabel('$||\\mathbf{x}_{jk}||$ [m]')\n",
    "ax.set_ylabel('$||∇^2\\mathcal{V}_j(\\mathbf{x}_{k})||$')\n",
    "ax.axvline(0.2, color='black', ls='--', lw=1)\n",
    "ax.axvline(0.3, color='black', ls='--', lw=1)\n",
    "ticks = [0.2, 0.3]\n",
    "ax.set_xticks(ticks, minor=True)\n",
    "\n",
    "dic = {\n",
    "    0.2: '$d$',\n",
    "    0.3: '$d+\\epsilon_d$',\n",
    "}\n",
    "labels = [ticks[i] if t not in dic.keys() else dic[t] for i,t in enumerate(ticks)]\n",
    "## or \n",
    "# labels = [dic.get(t, ticks[i]) for i,t in enumerate(ticks)]\n",
    "\n",
    "ax.set_xticklabels(labels, minor=True)\n",
    "ax.tick_params(which='minor', labelbottom=True, labelrotation=-90)\n",
    "\n",
    "plt.tight_layout()\n",
    "\n",
    "fig.savefig(f'/home/agniewek/repos/thesis/spatial_coordination/data/lipschitz.pdf', transparent=True, bbox_inches='tight')"
   ]
  },
  {
   "cell_type": "code",
   "execution_count": null,
   "metadata": {},
   "outputs": [],
   "source": [
    "exps = {\n",
    "    '2021-03-04 13:24:50.559347:J=0,K=0,M=1,T=0.15.json': 'without,T=0.3',\n",
    "    #'2021-03-04 13:26:54.742564:J=0,K=0,M=1,T=0.25.json': 'without,T=0.5',\n",
    "    '2021-03-04 13:28:33.713132:J=0,K=0,M=1,T=0.5.json': 'without,T=1',\n",
    "    '2021-03-04 13:29:11.724027:J=0,K=0,M=1,T=0.1.json': 'without,T=0.2',\n",
    "    '2021-03-05 13:40:00.964232:J=0,K=0,M=1,T=0.15.json': 'with,T=0.3',\n",
    "    #'2021-03-05 13:39:39.007336:J=0,K=0,M=1,T=0.25.json': 'with,T=0.5',\n",
    "    '2021-03-05 13:40:28.783291:J=0,K=0,M=1,T=0.1.json': 'with,T=0.2',\n",
    "    '2021-03-05 14:02:39.388270:J=0,K=0,M=1,T=0.5.json': 'with,T=1',\n",
    "    '2021-04-26 16:17:02.355157:J=0,K=0,M=1,T=0.5.json': 'async',\n",
    "    '2021-04-26 17:31:12.711957:J=0,K=0,M=1,T=2.5.json': 'async2',\n",
    "}\n",
    "maxt = {\n",
    "    '2021-03-04 13:24:50.559347:J=0,K=0,M=1,T=0.15.json': 100,\n",
    "    '2021-03-04 13:26:54.742564:J=0,K=0,M=1,T=0.25.json': 300,\n",
    "    '2021-03-04 13:28:33.713132:J=0,K=0,M=1,T=0.5.json': 300,\n",
    "    '2021-03-04 13:29:11.724027:J=0,K=0,M=1,T=0.1.json': 100,\n",
    "    '2021-03-05 13:40:00.964232:J=0,K=0,M=1,T=0.15.json': 150,\n",
    "    '2021-03-05 13:39:39.007336:J=0,K=0,M=1,T=0.25.json': 250,\n",
    "    '2021-03-05 13:40:28.783291:J=0,K=0,M=1,T=0.1.json': 100,\n",
    "    '2021-03-05 14:02:39.388270:J=0,K=0,M=1,T=0.5.json': 650,\n",
    "    '2021-04-26 16:17:02.355157:J=0,K=0,M=1,T=0.5.json': 1000,\n",
    "    '2021-04-26 17:31:12.711957:J=0,K=0,M=1,T=2.5.json': 10000,\n",
    "}"
   ]
  },
  {
   "cell_type": "code",
   "execution_count": null,
   "metadata": {
    "scrolled": true
   },
   "outputs": [],
   "source": [
    "from utils.order_parameters import calculate_avg_dist\n",
    "filenames_swarm = os.listdir(swarm_results_dir)\n",
    "for filename in filenames_swarm: # exps.keys():\n",
    "    print(filename)\n",
    "    params = parse_params_from_filename(filename)\n",
    "    with open(f'{swarm_results_dir}{filename}') as f:\n",
    "        result = json.load(f)\n",
    "        history = result['states']\n",
    "        print(len(history))\n",
    "        ts[filename] = []\n",
    "        var_rs[filename] = []\n",
    "        instants[filename] = []\n",
    "        snapshots[filename] = {}\n",
    "        potentials[filename] = []\n",
    "        for t, states in history:\n",
    "            for k, s in states.items():\n",
    "                states[k] = state_from_json(s, params)\n",
    "            #if t > maxt[filename]:\n",
    "            #    break\n",
    "            #if list(states.values())[0].small_phase == 0:\n",
    "            ts[filename].append(t)\n",
    "                # calculate new parameters\n",
    "                # calculate_avg_dist(list(states.values()))\n",
    "            var_rs[filename].append(calculate_avg_dist(list(states.values())))\n",
    "            potentials[filename].append(calculate_potential(list(states.values())))\n",
    "            snapshots[filename][t] = states\n",
    "        times = ts[filename]\n",
    "        instants[filename] = [times[-3], times[-2], times[-1]]  "
   ]
  },
  {
   "cell_type": "code",
   "execution_count": null,
   "metadata": {
    "scrolled": false
   },
   "outputs": [],
   "source": [
    "filenames_swarm = os.listdir(swarm_results_dir)\n",
    "for filename in filenames_swarm:  # exps.keys():\n",
    "    params = parse_params_from_filename(filename)\n",
    "    fig, ax = plt.subplots(\n",
    "        1, 1, sharex=True, constrained_layout=True, figsize=(5.5, 2.5)\n",
    "    )\n",
    "    fig, ax2 = plt.subplots(\n",
    "        1, 1, sharex=True, constrained_layout=True, figsize=(5.5, 2.5)\n",
    "    )\n",
    "    print(len(ts[filename]))\n",
    "    \n",
    "    ax.set_title(params['T'])\n",
    "#    ax.set_title(exps[filename])\n",
    "    ax.set_axisbelow(True)\n",
    "    #colors = ['#1f77b4', '#ff7f0e', '#2ca02c', '#d62728', '#9467bd', '#8c564b', '#e377c2', '#7f7f7f', '#bcbd22', '#17becf', '#e377c2', '#7f7f7f', '#bcbd22', '#17becf']\n",
    "    #print(len(ts[filename]), len(var_rs[filename]))\n",
    "    print(filename, var_rs[filename][-1])\n",
    "    ax2.scatter(ts[filename][0:], var_rs[filename][0:], s=1, label=\"$V$\")\n",
    "    # ax.set_ylim(ymin=-0.01)\n",
    "    for i, p in enumerate(list(zip(*potentials[filename]))):\n",
    "        #print(len(p))\n",
    "        #print(p)\n",
    "        ax.scatter(ts[filename][-50:], p[-50:], s=10)\n",
    "    #offsets = [ts[filename][-1]*0.01, ts[filename][-1]*0.03, ts[filename][-1]*0.12]\n",
    "    ax.set_xlabel('time [s]')\n",
    "    ax.set_ylabel('potential')\n",
    "\n",
    "    #ax.legend(loc='center right')\n",
    "    #ax.set_xlim((0, ts[filename][-1]))\n",
    "    #fig.savefig(f'/home/agniewek/repos/thesis/spatial_coordination/data/sim-speedlimit-{exps[filename]}.pdf', transparent=True, bbox_inches=\"tight\")\n",
    "    #fig2.savefig(f'/home/agniewek/repos/papers/2020-journal/data/sim-snapshots-{pattern}.pdf', transparent=True, bbox_inches=\"tight\")\n",
    "    fig2, s = plt.subplots(1, 3, constrained_layout=True, figsize=(5.5, 2), sharex=True, sharey=True)\n",
    "    for i, t in enumerate(instants[filename]):\n",
    "        s[i].xaxis.set_major_locator(MultipleLocator(2))\n",
    "        s[i].yaxis.set_major_locator(MultipleLocator(2))\n",
    "        s[i].set_aspect('equal')\n",
    "        xs = [s.position[0] for s in snapshots[filename][t].values()]\n",
    "        ys = [s.position[1] for s in snapshots[filename][t].values()]\n",
    "        cs = [colorsys.hsv_to_rgb((s.phase)%1, 1, 1) for s in snapshots[filename][t].values()]\n",
    "        s[i].set_axisbelow(True)\n",
    "        s[i].set_xlim((-5.1, 5.1))\n",
    "        s[i].set_ylim((-5.1, 5.1))\n",
    "        s[i].scatter(xs, ys, c=cs, s=30)\n",
    "        s[i].set_title(f'$t={t:.0f}\\\\:$s')\n",
    "        s[i].set_xlabel('[m]')\n",
    "    "
   ]
  },
  {
   "cell_type": "code",
   "execution_count": null,
   "metadata": {
    "scrolled": true
   },
   "outputs": [],
   "source": [
    "async_results_dir = 'results/log/swarm/async/'\n",
    "async_filenames = os.listdir(async_results_dir)\n",
    "async_filenames.sort()\n",
    "async_filenames"
   ]
  },
  {
   "cell_type": "code",
   "execution_count": null,
   "metadata": {},
   "outputs": [],
   "source": [
    "async_files = [\n",
    "    '2021-04-28 17:28:06.347950:J=0,K=0,M=1,T=0.01.json',\n",
    "    '2021-04-28 17:28:28.745012:J=0,K=0,M=1,T=0.01.json',\n",
    "    '2021-04-28 17:28:53.440962:J=0,K=0,M=1,T=0.01.json',\n",
    "    '2021-04-28 17:29:18.848159:J=0,K=0,M=1,T=0.01.json',\n",
    "]\n",
    "for filename in async_files:\n",
    "    print(filename)\n",
    "    params = parse_params_from_filename(filename)\n",
    "    with open(f'{async_results_dir}{filename}') as f:\n",
    "        result = json.load(f)\n",
    "        history = result['states']\n",
    "        ts[filename] = []\n",
    "        var_rs[filename] = []\n",
    "        instants[filename] = []\n",
    "        snapshots[filename] = {}\n",
    "        potentials[filename] = []\n",
    "        for t, states in history:\n",
    "            for k, s in states.items():\n",
    "                states[k] = state_from_json(s, params)\n",
    "            #if t > maxt[filename]:\n",
    "            #    break\n",
    "            ts[filename].append(t)\n",
    "            #if list(states.values())[0].small_phase == 0:\n",
    "                # calculate new parameters\n",
    "            #var_rs[filename].append(calculate_avg_dist(list(states.values())))\n",
    "            # var_rs[filename].append(calculate_var_r(list(states.values())))\n",
    "            snapshots[filename][t] = states\n",
    "            \n",
    "            potentials[filename].append(calculate_potential(list(states.values())))\n",
    "            #print(list(states.values()))\n",
    "            \n",
    "        times = ts[filename]\n",
    "        instants[filename] = [times[-2], times[-1]]"
   ]
  },
  {
   "cell_type": "code",
   "execution_count": null,
   "metadata": {
    "scrolled": false
   },
   "outputs": [],
   "source": [
    "\n",
    "for ident, filename in enumerate(async_files):\n",
    "    titles = ['nothing', 'sync', 'speed', 'both']\n",
    "    print(filename)\n",
    "    params = parse_params_from_filename(filename)\n",
    "    fig, ax = plt.subplots(\n",
    "        1, 1, sharex=True, constrained_layout=True, figsize=(8, 4)\n",
    "    )\n",
    "    colors = ['#1f77b4', '#ff7f0e', '#2ca02c', '#d62728', '#9467bd', '#8c564b', '#e377c2', '#7f7f7f', '#bcbd22', '#17becf', '#e377c2', '#7f7f7f', '#bcbd22', '#17becf']\n",
    "    ax.set_title(titles[ident])\n",
    "    ax.set_axisbelow(True)\n",
    "    #ax.scatter(ts[filename], var_rs[filename], s=1, label=\"$V$\")\n",
    "    #ax.scatter(ts[filename], angular_distances[filename], s=5, label=\"Angular distance diff\")\n",
    "    #ax.scatter(ts[filename], time_coord_potentials[filename], s=5, label=\"Time coordination potential\")\n",
    "    #ax.spines['left'].set_visible(False)\n",
    "    #print(len(list(zip(*potentials[filename]))))\n",
    "    #ax.scatter(ts[filename], list(zip(*potentials[filename]))[0])\n",
    "    for i, p in enumerate(list(zip(*potentials[filename]))[-1:]):\n",
    "        #print(len(p))\n",
    "        #print(p)\n",
    "        ax.scatter(ts[filename][-300:], p[-300:], c=colors[i], s=5)\n",
    "    #ax.set_ylim(ymin=-0.01)\n",
    "    #ax.set_ylim(ymax=0.01)\n",
    "    #offsets = [ts[filename][-1]*0.01, ts[filename][-1]*0.03, ts[filename][-1]*0.12]\n",
    "    ax.set_xlabel('time [s]')\n",
    "    ax.set_ylabel('order parameter')\n",
    "\n",
    "    #ax.legend(loc='center right')\n",
    "    #ax.set_xlim((0, ts[filename][-1]))\n",
    "    #fig.savefig(f'/home/agniewek/repos/thesis/spatial_coordination/data/sim-speedlimit-{exps[filename]}.pdf', transparent=True, bbox_inches=\"tight\")\n",
    "    #fig2.savefig(f'/home/agniewek/repos/papers/2020-journal/data/sim-snapshots-{pattern}.pdf', transparent=True, bbox_inches=\"tight\")\n",
    "    fig2, s = plt.subplots(1, 2, constrained_layout=True, figsize=(8, 4), sharex=True, sharey=True)\n",
    "    for i, t in enumerate(instants[filename]):\n",
    "        s[i].xaxis.set_major_locator(MultipleLocator(2))\n",
    "        s[i].yaxis.set_major_locator(MultipleLocator(2))\n",
    "        #s[i].set_aspect('equal')\n",
    "        xs = [s.position[0] - 1 * t for s in snapshots[filename][t].values()]\n",
    "        ys = [s.position[1] for s in snapshots[filename][t].values()]\n",
    "        distances = []\n",
    "        for k in range(len(xs)):\n",
    "            for j in range(k+1, len(xs)):\n",
    "                distances.append(np.linalg.norm([xs[k]-xs[j], ys[k] - ys[j]]))\n",
    "                \n",
    "        print(min(distances))\n",
    "        #print('var', var_rs[filename][-1])\n",
    "                \n",
    "        cs = [colorsys.hsv_to_rgb((s.phase)%1, 1, 1) for s in snapshots[filename][t].values()]\n",
    "        s[i].set_axisbelow(True)\n",
    "        s[i].axis('square')\n",
    "        #s[i].set_xlim((-5.1, 5.1))\n",
    "        #s[i].set_ylim((-5.1, 5.1))\n",
    "        s[i].scatter(xs, ys, c=cs, s=80)\n",
    "        s[i].set_title(f'$t={t:.0f}\\\\:$s')\n",
    "        s[i].set_xlabel('[m]')\n",
    "        \n",
    "    fig.savefig(f'/tmp/plot-order-{titles[ident]}.png', transparent=True, bbox_inches=\"tight\")\n",
    "    fig2.savefig(f'/tmp/plot-pattern-{titles[ident]}.png', transparent=True, bbox_inches=\"tight\")"
   ]
  },
  {
   "cell_type": "code",
   "execution_count": null,
   "metadata": {
    "scrolled": false
   },
   "outputs": [],
   "source": [
    "filename = '2021-03-04 13:24:50.559347:J=0,K=0,M=1,T=0.15.json'\n",
    "with open(f'{swarm_results_dir}{filename}') as f:\n",
    "    result = json.load(f)\n",
    "    history = result['states']\n",
    "    #print(history[-10:])\n",
    "    print([s['small_phase'] for s in history[-3][1].values()])\n",
    "    print([s['small_phase'] for s in history[-2][1].values()])\n",
    "    print([s['small_phase'] for s in history[-1][1].values()])\n",
    "    print(history[-1][1].keys())\n",
    "print(var_rs[filename][-10:])"
   ]
  },
  {
   "cell_type": "code",
   "execution_count": null,
   "metadata": {},
   "outputs": [],
   "source": []
  }
 ],
 "metadata": {
  "kernelspec": {
   "display_name": "sandsbot",
   "language": "python",
   "name": "sandsbot"
  },
  "language_info": {
   "codemirror_mode": {
    "name": "ipython",
    "version": 3
   },
   "file_extension": ".py",
   "mimetype": "text/x-python",
   "name": "python",
   "nbconvert_exporter": "python",
   "pygments_lexer": "ipython3",
   "version": "3.9.5"
  }
 },
 "nbformat": 4,
 "nbformat_minor": 2
}
